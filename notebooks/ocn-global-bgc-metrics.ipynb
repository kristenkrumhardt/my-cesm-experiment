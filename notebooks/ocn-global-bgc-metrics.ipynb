{
 "cells": [
  {
   "cell_type": "markdown",
   "id": "b32e55d3-d037-40b9-96ac-b2ff03536e23",
   "metadata": {},
   "source": [
    "# Global BGC metrics"
   ]
  },
  {
   "cell_type": "code",
   "execution_count": 1,
   "id": "e13795c3-000f-465c-b07b-e3bb31415aef",
   "metadata": {},
   "outputs": [],
   "source": [
    "%load_ext autoreload\n",
    "%autoreload 2"
   ]
  },
  {
   "cell_type": "code",
   "execution_count": 2,
   "id": "e8199a6d-1b51-453e-a34c-45ed5f88c59f",
   "metadata": {},
   "outputs": [
    {
     "name": "stderr",
     "output_type": "stream",
     "text": [
      "/glade/work/kristenk/miniconda/envs/cesm-exp/lib/python3.7/site-packages/dask_jobqueue/core.py:20: FutureWarning: tmpfile is deprecated and will be removed in a future release. Please use dask.utils.tmpfile instead.\n",
      "  from distributed.utils import tmpfile\n"
     ]
    }
   ],
   "source": [
    "import xarray as xr\n",
    "\n",
    "from dask.distributed import Client\n",
    "\n",
    "import catalog\n",
    "import util\n",
    "\n",
    "xr.set_options(keep_attrs=True)\n",
    "\n",
    "import matplotlib.pyplot as plt\n",
    "import cartopy\n",
    "import cartopy.crs as ccrs\n",
    "import pop_tools\n",
    "import numpy as np\n",
    "import pandas as pd"
   ]
  },
  {
   "cell_type": "code",
   "execution_count": 3,
   "id": "0850149e-56d4-4f28-88bd-2639e11ad20a",
   "metadata": {},
   "outputs": [],
   "source": [
    "ds_grid = pop_tools.get_grid('POP_gx1v7')\n",
    "lons=ds_grid.TLONG\n",
    "lats=ds_grid.TLAT\n",
    "area = ds_grid.TAREA\n",
    "area_m = area/1.e4"
   ]
  },
  {
   "cell_type": "markdown",
   "id": "8e5fd23a-c09c-4fff-8d7b-d2881051ec05",
   "metadata": {},
   "source": [
    "### Parameters"
   ]
  },
  {
   "cell_type": "code",
   "execution_count": 4,
   "id": "7aba216b-6257-44cb-b711-41178010c5e9",
   "metadata": {
    "tags": [
     "parameters"
    ]
   },
   "outputs": [],
   "source": [
    "casename = 'g.e22.GOMIPECOIAF_JRA-1p4-2018.TL319_g17.4p2z.001'\n",
    "component = 'pop'\n",
    "stream = 'h'\n",
    "\n",
    "cluster_scheduler_address = None"
   ]
  },
  {
   "cell_type": "code",
   "execution_count": 5,
   "id": "b29c2ce8-1aea-4c88-a488-aef634305748",
   "metadata": {},
   "outputs": [],
   "source": [
    "assert component in ['pop']\n",
    "assert stream in ['h'] #, 'h.ecosys.nday1']"
   ]
  },
  {
   "cell_type": "markdown",
   "id": "0bc82532-c3b7-4378-b6b9-416ccd553c1b",
   "metadata": {},
   "source": [
    "### Connect to cluster"
   ]
  },
  {
   "cell_type": "code",
   "execution_count": 6,
   "id": "c549c0ec-0721-4986-be5f-6c7c9e632fc1",
   "metadata": {},
   "outputs": [
    {
     "data": {
      "text/html": [
       "<div>\n",
       "    <div style=\"width: 24px; height: 24px; background-color: #e1e1e1; border: 3px solid #9D9D9D; border-radius: 5px; position: absolute;\"> </div>\n",
       "    <div style=\"margin-left: 48px;\">\n",
       "        <h3 style=\"margin-bottom: 0px;\">Client</h3>\n",
       "        <p style=\"color: #9D9D9D; margin-bottom: 0px;\">Client-7ba6e2e4-1fd7-11ed-a103-3cecef1acc42</p>\n",
       "        <table style=\"width: 100%; text-align: left;\">\n",
       "\n",
       "        <tr>\n",
       "        \n",
       "            <td style=\"text-align: left;\"><strong>Connection method:</strong> Cluster object</td>\n",
       "            <td style=\"text-align: left;\"><strong>Cluster type:</strong> dask_jobqueue.PBSCluster</td>\n",
       "        \n",
       "        </tr>\n",
       "\n",
       "        \n",
       "            <tr>\n",
       "                <td style=\"text-align: left;\">\n",
       "                    <strong>Dashboard: </strong> <a href=\"https://jupyterhub.hpc.ucar.edu/stable/user/kristenk/proxy/8787/status\" target=\"_blank\">https://jupyterhub.hpc.ucar.edu/stable/user/kristenk/proxy/8787/status</a>\n",
       "                </td>\n",
       "                <td style=\"text-align: left;\"></td>\n",
       "            </tr>\n",
       "        \n",
       "\n",
       "        </table>\n",
       "\n",
       "        \n",
       "            <details>\n",
       "            <summary style=\"margin-bottom: 20px;\"><h3 style=\"display: inline;\">Cluster Info</h3></summary>\n",
       "            <div class=\"jp-RenderedHTMLCommon jp-RenderedHTML jp-mod-trusted jp-OutputArea-output\">\n",
       "    <div style=\"width: 24px; height: 24px; background-color: #e1e1e1; border: 3px solid #9D9D9D; border-radius: 5px; position: absolute;\">\n",
       "    </div>\n",
       "    <div style=\"margin-left: 48px;\">\n",
       "        <h3 style=\"margin-bottom: 0px; margin-top: 0px;\">PBSCluster</h3>\n",
       "        <p style=\"color: #9D9D9D; margin-bottom: 0px;\">8faf7dc9</p>\n",
       "        <table style=\"width: 100%; text-align: left;\">\n",
       "            <tr>\n",
       "                <td style=\"text-align: left;\">\n",
       "                    <strong>Dashboard:</strong> <a href=\"https://jupyterhub.hpc.ucar.edu/stable/user/kristenk/proxy/8787/status\" target=\"_blank\">https://jupyterhub.hpc.ucar.edu/stable/user/kristenk/proxy/8787/status</a>\n",
       "                </td>\n",
       "                <td style=\"text-align: left;\">\n",
       "                    <strong>Workers:</strong> 0\n",
       "                </td>\n",
       "            </tr>\n",
       "            <tr>\n",
       "                <td style=\"text-align: left;\">\n",
       "                    <strong>Total threads:</strong> 0\n",
       "                </td>\n",
       "                <td style=\"text-align: left;\">\n",
       "                    <strong>Total memory:</strong> 0 B\n",
       "                </td>\n",
       "            </tr>\n",
       "            \n",
       "        </table>\n",
       "\n",
       "        <details>\n",
       "            <summary style=\"margin-bottom: 20px;\">\n",
       "                <h3 style=\"display: inline;\">Scheduler Info</h3>\n",
       "            </summary>\n",
       "\n",
       "            <div style=\"\">\n",
       "    <div>\n",
       "        <div style=\"width: 24px; height: 24px; background-color: #FFF7E5; border: 3px solid #FF6132; border-radius: 5px; position: absolute;\"> </div>\n",
       "        <div style=\"margin-left: 48px;\">\n",
       "            <h3 style=\"margin-bottom: 0px;\">Scheduler</h3>\n",
       "            <p style=\"color: #9D9D9D; margin-bottom: 0px;\">Scheduler-e1febe6e-1854-49b7-bc54-95fedf1cd8c1</p>\n",
       "            <table style=\"width: 100%; text-align: left;\">\n",
       "                <tr>\n",
       "                    <td style=\"text-align: left;\">\n",
       "                        <strong>Comm:</strong> tcp://10.12.206.15:33751\n",
       "                    </td>\n",
       "                    <td style=\"text-align: left;\">\n",
       "                        <strong>Workers:</strong> 0\n",
       "                    </td>\n",
       "                </tr>\n",
       "                <tr>\n",
       "                    <td style=\"text-align: left;\">\n",
       "                        <strong>Dashboard:</strong> <a href=\"https://jupyterhub.hpc.ucar.edu/stable/user/kristenk/proxy/8787/status\" target=\"_blank\">https://jupyterhub.hpc.ucar.edu/stable/user/kristenk/proxy/8787/status</a>\n",
       "                    </td>\n",
       "                    <td style=\"text-align: left;\">\n",
       "                        <strong>Total threads:</strong> 0\n",
       "                    </td>\n",
       "                </tr>\n",
       "                <tr>\n",
       "                    <td style=\"text-align: left;\">\n",
       "                        <strong>Started:</strong> Just now\n",
       "                    </td>\n",
       "                    <td style=\"text-align: left;\">\n",
       "                        <strong>Total memory:</strong> 0 B\n",
       "                    </td>\n",
       "                </tr>\n",
       "            </table>\n",
       "        </div>\n",
       "    </div>\n",
       "\n",
       "    <details style=\"margin-left: 48px;\">\n",
       "        <summary style=\"margin-bottom: 20px;\">\n",
       "            <h3 style=\"display: inline;\">Workers</h3>\n",
       "        </summary>\n",
       "\n",
       "        \n",
       "\n",
       "    </details>\n",
       "</div>\n",
       "\n",
       "        </details>\n",
       "    </div>\n",
       "</div>\n",
       "            </details>\n",
       "        \n",
       "\n",
       "    </div>\n",
       "</div>"
      ],
      "text/plain": [
       "<Client: 'tcp://10.12.206.15:33751' processes=0 threads=0, memory=0 B>"
      ]
     },
     "execution_count": 6,
     "metadata": {},
     "output_type": "execute_result"
    }
   ],
   "source": [
    "if cluster_scheduler_address is None:\n",
    "    cluster, client = util.get_ClusterClient()\n",
    "    cluster.scale(12)\n",
    "else:\n",
    "    client = Client(cluster_scheduler_address)\n",
    "client"
   ]
  },
  {
   "cell_type": "markdown",
   "id": "976ffa95-263e-4d11-bda3-0637f9d28212",
   "metadata": {},
   "source": [
    "### Load the data"
   ]
  },
  {
   "cell_type": "code",
   "execution_count": 13,
   "id": "4e7e974e-99a7-42a2-8925-90e23a848edc",
   "metadata": {},
   "outputs": [
    {
     "name": "stdout",
     "output_type": "stream",
     "text": [
      "g.e22.GOMIPECOIAF_JRA-1p4-2018.TL319_g17.4p2z.001 pop h /glade/scratch/kristenk/archive\n",
      "CPU times: user 1min 13s, sys: 1.14 s, total: 1min 14s\n",
      "Wall time: 1min 57s\n"
     ]
    },
    {
     "data": {
      "text/plain": [
       "dict_keys(['g.e22.GOMIPECOIAF_JRA-1p4-2018.TL319_g17.4p2z.001.pop.h'])"
      ]
     },
     "execution_count": 13,
     "metadata": {},
     "output_type": "execute_result"
    }
   ],
   "source": [
    "%%time\n",
    "\n",
    "dsets = catalog.to_dataset_dict(\n",
    "    case=casename,\n",
    "    component=component,\n",
    "    stream=stream,\n",
    ")\n",
    "dsets.keys()"
   ]
  },
  {
   "cell_type": "code",
   "execution_count": 14,
   "id": "71171c48-c130-4d74-9ce2-3beda2d453e2",
   "metadata": {},
   "outputs": [],
   "source": [
    "ds = dsets[f'{casename}.{component}.{stream}']"
   ]
  },
  {
   "cell_type": "markdown",
   "id": "b5d851b8-ddae-4407-8aee-1f2f01bb5780",
   "metadata": {},
   "source": [
    "### Variable list"
   ]
  },
  {
   "cell_type": "code",
   "execution_count": 17,
   "id": "ea5e9150-4e80-45a2-a5b6-a8b6a474cf72",
   "metadata": {},
   "outputs": [],
   "source": [
    "variables =['photoC_TOT_zint',\n",
    "            'photoC_sp_zint','photoC_diat_zint',\n",
    "            'photoC_diaz_zint','photoC_cocco_zint',\n",
    "            'SiO2_PROD','CaCO3_PROD_zint','diaz_Nfix',\n",
    "            'mesozooC','microzooC','x_graze_microzoo_zint','x_graze_mesozoo_zint',\n",
    "            'POC_FLUX_100m']"
   ]
  },
  {
   "cell_type": "code",
   "execution_count": 18,
   "id": "a63a74ea-ac56-4034-aeaa-f648909fe59a",
   "metadata": {},
   "outputs": [],
   "source": [
    "keep_vars=['z_t','z_t_150m','dz','time_bound','TAREA','TLAT','TLONG'] + variables\n",
    "ds = ds.drop([v for v in ds.variables if v not in keep_vars])"
   ]
  },
  {
   "cell_type": "code",
   "execution_count": 19,
   "id": "7abc7911-cfb2-40d7-bf8e-5b909bc8319d",
   "metadata": {},
   "outputs": [],
   "source": [
    "dt_wgt = ds.time_bound.diff('d2').squeeze()\n",
    "dt_wgt /= dt_wgt.sum()\n",
    "#dt_wgt"
   ]
  },
  {
   "cell_type": "code",
   "execution_count": 20,
   "id": "bb40f367-0a19-4719-a091-e8f7fd0abaaf",
   "metadata": {},
   "outputs": [],
   "source": [
    "ds = ds.weighted(dt_wgt).mean('time')"
   ]
  },
  {
   "cell_type": "markdown",
   "id": "1bb08ed7-9232-4b23-a9a5-c9251a2b4b72",
   "metadata": {},
   "source": [
    "### Make Global integrals"
   ]
  },
  {
   "cell_type": "markdown",
   "id": "76ee5a57-f19d-4b2c-ae0e-d16a48c91c7c",
   "metadata": {},
   "source": [
    "##### Carbon-related variables"
   ]
  },
  {
   "cell_type": "code",
   "execution_count": 21,
   "id": "33e581be-09bb-4087-9651-0103c8f9e522",
   "metadata": {},
   "outputs": [],
   "source": [
    "cvars = ['photoC_TOT_zint', 'photoC_sp_zint','photoC_diat_zint',\n",
    "         'photoC_diaz_zint','photoC_cocco_zint', 'POC_FLUX_100m',\n",
    "         'CaCO3_PROD_zint','x_graze_microzoo_zint','x_graze_mesozoo_zint']\n",
    "\n",
    "ds_glb = util.global_mean(ds, ds_grid, cvars, normalize=False).compute()\n",
    "\n",
    "nmols_to_PgCyr = 1e-9 * 12. * 1e-15 * 365. * 86400.\n",
    "\n",
    "for v in cvars:\n",
    "    ds_glb[v] = ds_glb[v] * nmols_to_PgCyr        \n",
    "    ds_glb[v].attrs['units'] = 'Pg C yr$^{-1}$'"
   ]
  },
  {
   "cell_type": "markdown",
   "id": "26a1e637-e3c9-4bd7-9d42-2720fa76a109",
   "metadata": {},
   "source": [
    "##### Percent NPP by diatoms"
   ]
  },
  {
   "cell_type": "code",
   "execution_count": 22,
   "id": "a924e3eb-54b8-4c71-abd3-2e30e4759eae",
   "metadata": {},
   "outputs": [],
   "source": [
    "ds_glb['diatNPPpercent'] = ds_glb.photoC_diat_zint / ds_glb.photoC_TOT_zint * 100.\n",
    "ds_glb['diatNPPpercent'].attrs['units'] = '%'"
   ]
  },
  {
   "cell_type": "markdown",
   "id": "509196f4-12df-4882-8b39-1cff866ce868",
   "metadata": {},
   "source": [
    "##### Diatom silicification"
   ]
  },
  {
   "cell_type": "code",
   "execution_count": 23,
   "id": "e5038f83-82be-4257-9802-a76008ad4e6f",
   "metadata": {},
   "outputs": [],
   "source": [
    "tmp = (ds.SiO2_PROD.isel(z_t=slice(0,10)) * 10.).sum(dim='z_t') ## depth integral, units in mmol/m2/s\n",
    "tmp = tmp * area_m ## mmol/s\n",
    "tmp = tmp * 86400. * 365 * 0.001 ## mol/yr \n",
    "tmp = tmp.sum(dim=('nlon','nlat')) * 1.e-12 #Tmol/yr\n",
    "\n",
    "ds_glb['SiO2_PROD'] = tmp\n",
    "ds_glb['SiO2_PROD'].attrs['units'] = 'Tmol Si yr$^{-1}$'"
   ]
  },
  {
   "cell_type": "markdown",
   "id": "1111829a-37c6-4244-912b-bfbd73e661fa",
   "metadata": {},
   "source": [
    "##### Nitrogen fixation"
   ]
  },
  {
   "cell_type": "code",
   "execution_count": 24,
   "id": "46c53c3e-691c-415f-96bb-c36f590dd2b9",
   "metadata": {},
   "outputs": [],
   "source": [
    "tmp = (ds['diaz_Nfix'] * 10.).sum(dim='z_t_150m') # unit is mmol/m2/s\n",
    "tmp = tmp * area_m ## mmol/s\n",
    "tmp = tmp * 86400. * 365. * 0.001 * 14. * 1e-12 #convert to Tg N / yr\n",
    "\n",
    "ds_glb['diaz_Nfix'] = tmp.sum(dim=('nlon','nlat'))\n",
    "ds_glb['diaz_Nfix'].attrs['units'] = 'Tg N yr$^{-1}$'"
   ]
  },
  {
   "cell_type": "markdown",
   "id": "59b5051a-961e-4587-ab97-9e2d37acf01b",
   "metadata": {},
   "source": [
    "##### Zooplankton biomass"
   ]
  },
  {
   "cell_type": "code",
   "execution_count": 25,
   "id": "c00837a5-4a94-4095-8bf6-4b90c46067f1",
   "metadata": {},
   "outputs": [],
   "source": [
    "tmp = (ds.microzooC * 10.).sum(dim='z_t_150m') #mmol/m2\n",
    "tmp = (tmp * area_m * 0.001).sum(dim=('nlon','nlat')) ## mol\n",
    "tmp = tmp.values * 1.e-15 * 12.011 #Pg C\n",
    "ds_glb['microzooC'] = tmp\n",
    "ds_glb['microzooC'].attrs['units'] = 'Pg C'\n",
    "\n",
    "tmp = (ds.mesozooC * 10.).sum(dim='z_t_150m') #mmol/m2\n",
    "tmp = (tmp * area_m * 0.001).sum(dim=('nlon','nlat')) ## mol\n",
    "tmp = tmp.values * 1.e-15 * 12.011 #Pg C\n",
    "ds_glb['mesozooC'] = tmp\n",
    "ds_glb['mesozooC'].attrs['units'] = 'Pg C'"
   ]
  },
  {
   "cell_type": "markdown",
   "id": "e10dbded-7f28-4941-8dbd-0c2736d35b99",
   "metadata": {},
   "source": [
    "##### Zooplankton productivity as % NPP"
   ]
  },
  {
   "cell_type": "code",
   "execution_count": 34,
   "id": "1b7ba11c-5c12-4c13-8237-a2c172210695",
   "metadata": {},
   "outputs": [],
   "source": [
    "ds_glb['zooprodNPPpercent'] = (ds_glb['x_graze_mesozoo_zint'] + ds_glb['x_graze_microzoo_zint'])/ds_glb['photoC_TOT_zint'] * 100.\n",
    "ds_glb['zooprodNPPpercent'].attrs['units'] = '%'"
   ]
  },
  {
   "cell_type": "markdown",
   "id": "5ae8c5ab-47ce-40f6-a5bb-4a9e796d7bfa",
   "metadata": {},
   "source": [
    "### Make a table of global metrics"
   ]
  },
  {
   "cell_type": "code",
   "execution_count": 35,
   "id": "1b19bf5c-ed13-475d-b90b-e0b2d1c076bc",
   "metadata": {},
   "outputs": [],
   "source": [
    "df = pd.DataFrame(columns=['Metric','unit','CESM','Obs','Reference'])"
   ]
  },
  {
   "cell_type": "code",
   "execution_count": 36,
   "id": "82127ac9-e6ad-433b-b4f0-39748d340f8e",
   "metadata": {},
   "outputs": [],
   "source": [
    "df.loc[0] = ['NPP',ds_glb.photoC_TOT_zint.attrs['units'],np.round(ds_glb.photoC_TOT_zint.values, 2),'45 to 55','Behrenfeld & Falkowski 1997; Carr et al., 2006']\n",
    "df.loc[1] = ['POC export 100m',ds_glb.POC_FLUX_100m.attrs['units'],np.round(ds_glb.POC_FLUX_100m.values, 2),'4 to 12','DeVries & Weber, 2017']\n",
    "df.loc[2] = ['%NPP by diatoms',ds_glb.diatNPPpercent.attrs['units'],np.round(ds_glb.diatNPPpercent.values, 2),'40%','Nelson et al., 1995']\n",
    "df.loc[3] = ['Silicification',ds_glb.SiO2_PROD.attrs['units'],np.round(ds_glb.SiO2_PROD.values, 2),'100 to 190','Nelson et al., 1995; Holzer et al., 2014']\n",
    "df.loc[4] = ['Nitrogen fixation',ds_glb.diaz_Nfix.attrs['units'],np.round(ds_glb.diaz_Nfix.values, 2),'125.6 and 222.9','Wang et al., 2019']\n",
    "df.loc[5] = ['Microzooplankton biomass',ds_glb.microzooC.attrs['units'],np.round(ds_glb.microzooC.values, 2),'0.24','Buitenhuis et al., 2010']\n",
    "df.loc[6] = ['Mesozooplankton biomass',ds_glb.mesozooC.attrs['units'],np.round(ds_glb.mesozooC.values, 2),'0.16 to 0.19','Buitenhuis et al., 2006; Moriarty & OBrien, 2013']\n",
    "df.loc[7] = ['Zoo prod % of NPP',ds_glb.zooprodNPPpercent.attrs['units'],np.round(ds_glb.zooprodNPPpercent.values, 2),'~25%','ref?']"
   ]
  },
  {
   "cell_type": "code",
   "execution_count": 37,
   "id": "7a38c5a8-91de-44b7-ab61-d48561e20625",
   "metadata": {},
   "outputs": [
    {
     "data": {
      "text/html": [
       "<div>\n",
       "<style scoped>\n",
       "    .dataframe tbody tr th:only-of-type {\n",
       "        vertical-align: middle;\n",
       "    }\n",
       "\n",
       "    .dataframe tbody tr th {\n",
       "        vertical-align: top;\n",
       "    }\n",
       "\n",
       "    .dataframe thead th {\n",
       "        text-align: right;\n",
       "    }\n",
       "</style>\n",
       "<table border=\"1\" class=\"dataframe\">\n",
       "  <thead>\n",
       "    <tr style=\"text-align: right;\">\n",
       "      <th></th>\n",
       "      <th>Metric</th>\n",
       "      <th>unit</th>\n",
       "      <th>CESM</th>\n",
       "      <th>Obs</th>\n",
       "      <th>Reference</th>\n",
       "    </tr>\n",
       "  </thead>\n",
       "  <tbody>\n",
       "    <tr>\n",
       "      <th>0</th>\n",
       "      <td>NPP</td>\n",
       "      <td>Pg C yr$^{-1}$</td>\n",
       "      <td>52.19</td>\n",
       "      <td>45 to 55</td>\n",
       "      <td>Behrenfeld &amp; Falkowski 1997; Carr et al., 2006</td>\n",
       "    </tr>\n",
       "    <tr>\n",
       "      <th>1</th>\n",
       "      <td>POC export 100m</td>\n",
       "      <td>Pg C yr$^{-1}$</td>\n",
       "      <td>6.60</td>\n",
       "      <td>4 to 12</td>\n",
       "      <td>DeVries &amp; Weber, 2017</td>\n",
       "    </tr>\n",
       "    <tr>\n",
       "      <th>2</th>\n",
       "      <td>%NPP by diatoms</td>\n",
       "      <td>%</td>\n",
       "      <td>39.44</td>\n",
       "      <td>40%</td>\n",
       "      <td>Nelson et al., 1995</td>\n",
       "    </tr>\n",
       "    <tr>\n",
       "      <th>3</th>\n",
       "      <td>Silicification</td>\n",
       "      <td>Tmol Si yr$^{-1}$</td>\n",
       "      <td>104.22</td>\n",
       "      <td>100 to 190</td>\n",
       "      <td>Nelson et al., 1995; Holzer et al., 2014</td>\n",
       "    </tr>\n",
       "    <tr>\n",
       "      <th>4</th>\n",
       "      <td>Nitrogen fixation</td>\n",
       "      <td>Tg N yr$^{-1}$</td>\n",
       "      <td>172.95</td>\n",
       "      <td>125.6 and 222.9</td>\n",
       "      <td>Wang et al., 2019</td>\n",
       "    </tr>\n",
       "    <tr>\n",
       "      <th>5</th>\n",
       "      <td>Microzooplankton biomass</td>\n",
       "      <td>Pg C</td>\n",
       "      <td>0.23</td>\n",
       "      <td>0.24</td>\n",
       "      <td>Buitenhuis et al., 2010</td>\n",
       "    </tr>\n",
       "    <tr>\n",
       "      <th>6</th>\n",
       "      <td>Mesozooplankton biomass</td>\n",
       "      <td>Pg C</td>\n",
       "      <td>0.40</td>\n",
       "      <td>0.16 to 0.19</td>\n",
       "      <td>Buitenhuis et al., 2006; Moriarty &amp; OBrien, 2013</td>\n",
       "    </tr>\n",
       "    <tr>\n",
       "      <th>7</th>\n",
       "      <td>Zoo prod % of NPP</td>\n",
       "      <td>%</td>\n",
       "      <td>25.27</td>\n",
       "      <td>~25%</td>\n",
       "      <td>ref?</td>\n",
       "    </tr>\n",
       "  </tbody>\n",
       "</table>\n",
       "</div>"
      ],
      "text/plain": [
       "                     Metric               unit    CESM              Obs  \\\n",
       "0                       NPP     Pg C yr$^{-1}$   52.19         45 to 55   \n",
       "1           POC export 100m     Pg C yr$^{-1}$    6.60          4 to 12   \n",
       "2           %NPP by diatoms                  %   39.44              40%   \n",
       "3            Silicification  Tmol Si yr$^{-1}$  104.22       100 to 190   \n",
       "4         Nitrogen fixation     Tg N yr$^{-1}$  172.95  125.6 and 222.9   \n",
       "5  Microzooplankton biomass               Pg C    0.23             0.24   \n",
       "6   Mesozooplankton biomass               Pg C    0.40     0.16 to 0.19   \n",
       "7         Zoo prod % of NPP                  %   25.27             ~25%   \n",
       "\n",
       "                                          Reference  \n",
       "0    Behrenfeld & Falkowski 1997; Carr et al., 2006  \n",
       "1                             DeVries & Weber, 2017  \n",
       "2                               Nelson et al., 1995  \n",
       "3          Nelson et al., 1995; Holzer et al., 2014  \n",
       "4                                 Wang et al., 2019  \n",
       "5                           Buitenhuis et al., 2010  \n",
       "6  Buitenhuis et al., 2006; Moriarty & OBrien, 2013  \n",
       "7                                              ref?  "
      ]
     },
     "execution_count": 37,
     "metadata": {},
     "output_type": "execute_result"
    }
   ],
   "source": [
    "df"
   ]
  },
  {
   "cell_type": "code",
   "execution_count": null,
   "id": "84f4a5fc-210d-4bc9-a07c-dd9713ab5829",
   "metadata": {},
   "outputs": [],
   "source": []
  }
 ],
 "metadata": {
  "kernelspec": {
   "display_name": "Python [conda env:miniconda-cesm-exp]",
   "language": "python",
   "name": "conda-env-miniconda-cesm-exp-py"
  },
  "language_info": {
   "codemirror_mode": {
    "name": "ipython",
    "version": 3
   },
   "file_extension": ".py",
   "mimetype": "text/x-python",
   "name": "python",
   "nbconvert_exporter": "python",
   "pygments_lexer": "ipython3",
   "version": "3.7.12"
  }
 },
 "nbformat": 4,
 "nbformat_minor": 5
}
