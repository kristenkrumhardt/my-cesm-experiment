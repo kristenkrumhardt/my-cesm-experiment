{
 "cells": [
  {
   "cell_type": "markdown",
   "id": "77b2cc42-458e-4905-8756-37c6b93b711d",
   "metadata": {},
   "source": [
    "# Run notebooks"
   ]
  },
  {
   "cell_type": "code",
   "execution_count": 1,
   "id": "00bbf9f6-2eaf-4be7-81dc-fa143eb5f082",
   "metadata": {},
   "outputs": [],
   "source": [
    "%load_ext autoreload\n",
    "%autoreload 2"
   ]
  },
  {
   "cell_type": "code",
   "execution_count": 2,
   "id": "40a88a54-c7a7-44fc-b9ff-f931e42ac421",
   "metadata": {},
   "outputs": [
    {
     "name": "stderr",
     "output_type": "stream",
     "text": [
      "/glade/work/kristenk/miniconda/envs/cesm-exp/lib/python3.7/site-packages/dask_jobqueue/core.py:20: FutureWarning: tmpfile is deprecated and will be removed in a future release. Please use dask.utils.tmpfile instead.\n",
      "  from distributed.utils import tmpfile\n"
     ]
    }
   ],
   "source": [
    "import os\n",
    "from glob import glob\n",
    "\n",
    "import papermill as pm\n",
    "\n",
    "import util"
   ]
  },
  {
   "cell_type": "markdown",
   "id": "7f4ce131-6c97-4027-9bfa-81ce9fb3750c",
   "metadata": {},
   "source": [
    "## Get control structure"
   ]
  },
  {
   "cell_type": "code",
   "execution_count": 3,
   "id": "8d2c274e-a576-4f18-8a04-f24631c54508",
   "metadata": {},
   "outputs": [
    {
     "data": {
      "text/plain": [
       "{'data_sources': {'casename': 'g.e22.GOMIPECOIAF_JRA-1p4-2018.TL319_g17.4p2z.001'},\n",
       " 'output_root': './_computed-notebooks',\n",
       " 'project': 'NCGD0011',\n",
       " 'book_toc': {'format': 'jb-book',\n",
       "  'root': 'description',\n",
       "  'parts': [{'caption': 'Global overview',\n",
       "    'chapters': [{'file': 'ocn-global-bgc-metrics'}]},\n",
       "   {'caption': 'Macronutrients', 'chapters': [{'file': 'ocn-macronuts'}]},\n",
       "   {'caption': 'Ocean Carbon Cycle',\n",
       "    'chapters': [{'file': 'ocn-carbonfluxes'}]},\n",
       "   {'caption': 'Phytoplankton',\n",
       "    'chapters': [{'file': 'ocn-phyto-biomass'},\n",
       "     {'file': 'ocn-phyto-prod'},\n",
       "     {'file': 'ocn-phyto-lims'},\n",
       "     {'file': 'ocn-chl'}]},\n",
       "   {'caption': 'Zooplankton', 'chapters': [{'file': 'ocn-zoo'}]},\n",
       "   {'caption': 'Dissolved iron', 'chapters': [{'file': 'ocn-iron'}]},\n",
       "   {'caption': 'Ocean Tracers',\n",
       "    'chapters': [{'file': 'intro-ocn-tracer-views',\n",
       "      'sections': [{'glob': 'ocn-tracer-views*'}]}]},\n",
       "   {'caption': 'Paper Figures', 'chapters': [{'file': 'ocn-paperfigs'}]}]},\n",
       " 'book_config_keys': {'title': 'My CESM Experiment',\n",
       "  'repository': {'url': 'https://github.com/kristenkrumhardt/my-cesm-experiment',\n",
       "   'path_to_book': 'notebooks',\n",
       "   'branch': 'main'}},\n",
       " 'compute_notebooks': {'description': {'use_cluster': False,\n",
       "   'parameter_groups': {'none': {'casename': 'g.e22.GOMIPECOIAF_JRA-1p4-2018.TL319_g17.4p2z.001'}},\n",
       "   'kernel_name': 'cesm-exp'},\n",
       "  'ocn-carbonfluxes': {'use_cluster': True,\n",
       "   'parameter_groups': {'none': {'casename': 'g.e22.GOMIPECOIAF_JRA-1p4-2018.TL319_g17.4p2z.001',\n",
       "     'component': 'pop',\n",
       "     'stream': 'h'}},\n",
       "   'kernel_name': 'cesm-exp'},\n",
       "  'ocn-global-bgc-metrics': {'use_cluster': True,\n",
       "   'parameter_groups': {'none': {'casename': 'g.e22.GOMIPECOIAF_JRA-1p4-2018.TL319_g17.4p2z.001',\n",
       "     'component': 'pop',\n",
       "     'stream': 'h'}},\n",
       "   'kernel_name': 'cesm-exp'},\n",
       "  'ocn-tracer-views': {'use_cluster': True,\n",
       "   'kernel_name': 'cesm-exp',\n",
       "   'default_params': {'casename': 'g.e22.GOMIPECOIAF_JRA-1p4-2018.TL319_g17.4p2z.001',\n",
       "    'component': 'pop',\n",
       "    'stream': 'h'},\n",
       "   'parameter_groups': {'temperature': {'variable_id': 'TEMP'},\n",
       "    'salinity': {'variable_id': 'SALT'},\n",
       "    'oxygen': {'variable_id': 'O2'},\n",
       "    'dissolved_inorganic_carbon': {'variable_id': 'DIC'}}},\n",
       "  'ocn-phyto-biomass': {'use_cluster': True,\n",
       "   'parameter_groups': {'none': {'casename': 'g.e22.GOMIPECOIAF_JRA-1p4-2018.TL319_g17.4p2z.001',\n",
       "     'component': 'pop',\n",
       "     'stream': 'h'}},\n",
       "   'kernel_name': 'cesm-exp'},\n",
       "  'ocn-phyto-prod': {'use_cluster': True,\n",
       "   'parameter_groups': {'none': {'casename': 'g.e22.GOMIPECOIAF_JRA-1p4-2018.TL319_g17.4p2z.001',\n",
       "     'component': 'pop',\n",
       "     'stream': 'h'}},\n",
       "   'kernel_name': 'cesm-exp'},\n",
       "  'ocn-chl': {'use_cluster': True,\n",
       "   'parameter_groups': {'none': {'casename': 'g.e22.GOMIPECOIAF_JRA-1p4-2018.TL319_g17.4p2z.001',\n",
       "     'component': 'pop',\n",
       "     'stream': 'h'}},\n",
       "   'kernel_name': 'cesm-exp'},\n",
       "  'ocn-phyto-lims': {'use_cluster': True,\n",
       "   'parameter_groups': {'none': {'casename': 'g.e22.GOMIPECOIAF_JRA-1p4-2018.TL319_g17.4p2z.001',\n",
       "     'component': 'pop',\n",
       "     'stream': 'h'}},\n",
       "   'kernel_name': 'cesm-exp'},\n",
       "  'ocn-zoo': {'use_cluster': True,\n",
       "   'parameter_groups': {'none': {'casename': 'g.e22.GOMIPECOIAF_JRA-1p4-2018.TL319_g17.4p2z.001',\n",
       "     'component': 'pop',\n",
       "     'stream': 'h'}},\n",
       "   'kernel_name': 'cesm-exp'},\n",
       "  'ocn-macronuts': {'use_cluster': True,\n",
       "   'parameter_groups': {'none': {'casename': 'g.e22.GOMIPECOIAF_JRA-1p4-2018.TL319_g17.4p2z.001',\n",
       "     'component': 'pop',\n",
       "     'stream': 'h'}},\n",
       "   'kernel_name': 'cesm-exp'},\n",
       "  'ocn-iron': {'use_cluster': True,\n",
       "   'parameter_groups': {'none': {'casename': 'g.e22.GOMIPECOIAF_JRA-1p4-2018.TL319_g17.4p2z.001',\n",
       "     'component': 'pop',\n",
       "     'stream': 'h'}},\n",
       "   'kernel_name': 'cesm-exp'},\n",
       "  'ocn-paperfigs': {'use_cluster': True,\n",
       "   'parameter_groups': {'none': {'casename': 'g.e22.GOMIPECOIAF_JRA-1p4-2018.TL319_g17.4p2z.001',\n",
       "     'component': 'pop',\n",
       "     'stream': 'h'}},\n",
       "   'kernel_name': 'cesm-exp'}},\n",
       " 'output_dir': './_computed-notebooks/g.e22.GOMIPECOIAF_JRA-1p4-2018.TL319_g17.4p2z.001'}"
      ]
     },
     "execution_count": 3,
     "metadata": {},
     "output_type": "execute_result"
    }
   ],
   "source": [
    "control = util.get_control_dict()\n",
    "control"
   ]
  },
  {
   "cell_type": "code",
   "execution_count": 4,
   "id": "8ed14b40-bcb0-4f53-93aa-d69e42afbf4b",
   "metadata": {},
   "outputs": [],
   "source": [
    "util.setup_book()"
   ]
  },
  {
   "cell_type": "markdown",
   "id": "86890966-42e8-4e7f-bd10-7ee6bdf1c8af",
   "metadata": {},
   "source": [
    "## Spin up a cluster\n",
    "\n",
    "The notebooks are configured to connect to this cluster."
   ]
  },
  {
   "cell_type": "code",
   "execution_count": 5,
   "id": "39493531-8a14-4948-ae1c-4658d5c20ab2",
   "metadata": {},
   "outputs": [
    {
     "data": {
      "application/vnd.jupyter.widget-view+json": {
       "model_id": "180c65d7399a4600b54d804f67b1be35",
       "version_major": 2,
       "version_minor": 0
      },
      "text/plain": [
       "Tab(children=(HTML(value='<div class=\"jp-RenderedHTMLCommon jp-RenderedHTML jp-mod-trusted jp-OutputArea-outpu…"
      ]
     },
     "metadata": {},
     "output_type": "display_data"
    }
   ],
   "source": [
    "cluster = util.get_Cluster(project=control['project'])\n",
    "cluster.scale(32)\n",
    "cluster"
   ]
  },
  {
   "cell_type": "markdown",
   "id": "cc0a4cb9-49a2-4844-a2ad-5247ad5cfa41",
   "metadata": {},
   "source": [
    "## Run all the notebooks"
   ]
  },
  {
   "cell_type": "code",
   "execution_count": 6,
   "id": "58d70fc0-9429-434e-a6a8-31c67e429a9e",
   "metadata": {},
   "outputs": [
    {
     "name": "stdout",
     "output_type": "stream",
     "text": [
      "executing description.ipynb\n"
     ]
    },
    {
     "data": {
      "application/vnd.jupyter.widget-view+json": {
       "model_id": "1cf68c0aa8a34168b0ed07b85f950f09",
       "version_major": 2,
       "version_minor": 0
      },
      "text/plain": [
       "Executing:   0%|          | 0/2 [00:00<?, ?cell/s]"
      ]
     },
     "metadata": {},
     "output_type": "display_data"
    },
    {
     "name": "stdout",
     "output_type": "stream",
     "text": [
      "executing ocn-carbonfluxes.ipynb\n"
     ]
    },
    {
     "data": {
      "application/vnd.jupyter.widget-view+json": {
       "model_id": "bf6f13fadf4d4b3ba04c74a996fa62b7",
       "version_major": 2,
       "version_minor": 0
      },
      "text/plain": [
       "Executing:   0%|          | 0/24 [00:00<?, ?cell/s]"
      ]
     },
     "metadata": {},
     "output_type": "display_data"
    },
    {
     "name": "stdout",
     "output_type": "stream",
     "text": [
      "executing ocn-global-bgc-metrics.ipynb\n"
     ]
    },
    {
     "data": {
      "application/vnd.jupyter.widget-view+json": {
       "model_id": "e4b5383761dd470892e6bca19ad5137c",
       "version_major": 2,
       "version_minor": 0
      },
      "text/plain": [
       "Executing:   0%|          | 0/36 [00:00<?, ?cell/s]"
      ]
     },
     "metadata": {},
     "output_type": "display_data"
    },
    {
     "name": "stdout",
     "output_type": "stream",
     "text": [
      "executing ocn-tracer-views.ipynb\n"
     ]
    },
    {
     "data": {
      "application/vnd.jupyter.widget-view+json": {
       "model_id": "f18000e239124195862aef0cca00e06a",
       "version_major": 2,
       "version_minor": 0
      },
      "text/plain": [
       "Executing:   0%|          | 0/16 [00:00<?, ?cell/s]"
      ]
     },
     "metadata": {},
     "output_type": "display_data"
    },
    {
     "name": "stdout",
     "output_type": "stream",
     "text": [
      "executing ocn-tracer-views.ipynb\n"
     ]
    },
    {
     "data": {
      "application/vnd.jupyter.widget-view+json": {
       "model_id": "f91c341e74854ca2bde7d3e301a6ed3d",
       "version_major": 2,
       "version_minor": 0
      },
      "text/plain": [
       "Executing:   0%|          | 0/16 [00:00<?, ?cell/s]"
      ]
     },
     "metadata": {},
     "output_type": "display_data"
    },
    {
     "name": "stdout",
     "output_type": "stream",
     "text": [
      "executing ocn-tracer-views.ipynb\n"
     ]
    },
    {
     "data": {
      "application/vnd.jupyter.widget-view+json": {
       "model_id": "272e887a6afa472c8a8f708adc73c25b",
       "version_major": 2,
       "version_minor": 0
      },
      "text/plain": [
       "Executing:   0%|          | 0/16 [00:00<?, ?cell/s]"
      ]
     },
     "metadata": {},
     "output_type": "display_data"
    },
    {
     "name": "stdout",
     "output_type": "stream",
     "text": [
      "executing ocn-tracer-views.ipynb\n"
     ]
    },
    {
     "data": {
      "application/vnd.jupyter.widget-view+json": {
       "model_id": "b495515ba11e44259d75cba8e4985ee5",
       "version_major": 2,
       "version_minor": 0
      },
      "text/plain": [
       "Executing:   0%|          | 0/16 [00:00<?, ?cell/s]"
      ]
     },
     "metadata": {},
     "output_type": "display_data"
    },
    {
     "name": "stdout",
     "output_type": "stream",
     "text": [
      "executing ocn-phyto-biomass.ipynb\n"
     ]
    },
    {
     "data": {
      "application/vnd.jupyter.widget-view+json": {
       "model_id": "de968143b86a489e9680adc79187c207",
       "version_major": 2,
       "version_minor": 0
      },
      "text/plain": [
       "Executing:   0%|          | 0/29 [00:00<?, ?cell/s]"
      ]
     },
     "metadata": {},
     "output_type": "display_data"
    },
    {
     "name": "stdout",
     "output_type": "stream",
     "text": [
      "executing ocn-phyto-prod.ipynb\n"
     ]
    },
    {
     "data": {
      "application/vnd.jupyter.widget-view+json": {
       "model_id": "d8297666befc4eddafc3920fb707b9a5",
       "version_major": 2,
       "version_minor": 0
      },
      "text/plain": [
       "Executing:   0%|          | 0/27 [00:00<?, ?cell/s]"
      ]
     },
     "metadata": {},
     "output_type": "display_data"
    },
    {
     "name": "stdout",
     "output_type": "stream",
     "text": [
      "executing ocn-chl.ipynb\n"
     ]
    },
    {
     "data": {
      "application/vnd.jupyter.widget-view+json": {
       "model_id": "222e72d4c41045dbbf60cb2bfd3b8704",
       "version_major": 2,
       "version_minor": 0
      },
      "text/plain": [
       "Executing:   0%|          | 0/34 [00:00<?, ?cell/s]"
      ]
     },
     "metadata": {},
     "output_type": "display_data"
    },
    {
     "name": "stdout",
     "output_type": "stream",
     "text": [
      "executing ocn-phyto-lims.ipynb\n"
     ]
    },
    {
     "data": {
      "application/vnd.jupyter.widget-view+json": {
       "model_id": "fe1334dcde744afaa061d8208515c80c",
       "version_major": 2,
       "version_minor": 0
      },
      "text/plain": [
       "Executing:   0%|          | 0/36 [00:00<?, ?cell/s]"
      ]
     },
     "metadata": {},
     "output_type": "display_data"
    },
    {
     "name": "stdout",
     "output_type": "stream",
     "text": [
      "executing ocn-zoo.ipynb\n"
     ]
    },
    {
     "data": {
      "application/vnd.jupyter.widget-view+json": {
       "model_id": "cc41817c16ae4b2dbbbd3b9147f18642",
       "version_major": 2,
       "version_minor": 0
      },
      "text/plain": [
       "Executing:   0%|          | 0/32 [00:00<?, ?cell/s]"
      ]
     },
     "metadata": {},
     "output_type": "display_data"
    },
    {
     "name": "stdout",
     "output_type": "stream",
     "text": [
      "executing ocn-macronuts.ipynb\n"
     ]
    },
    {
     "data": {
      "application/vnd.jupyter.widget-view+json": {
       "model_id": "3d13de8d9eff4bad82d1da5225331e8d",
       "version_major": 2,
       "version_minor": 0
      },
      "text/plain": [
       "Executing:   0%|          | 0/34 [00:00<?, ?cell/s]"
      ]
     },
     "metadata": {},
     "output_type": "display_data"
    },
    {
     "name": "stdout",
     "output_type": "stream",
     "text": [
      "executing ocn-iron.ipynb\n"
     ]
    },
    {
     "data": {
      "application/vnd.jupyter.widget-view+json": {
       "model_id": "bcae5024b29d46c1b08890d8efaeb73e",
       "version_major": 2,
       "version_minor": 0
      },
      "text/plain": [
       "Executing:   0%|          | 0/29 [00:00<?, ?cell/s]"
      ]
     },
     "metadata": {},
     "output_type": "display_data"
    },
    {
     "name": "stdout",
     "output_type": "stream",
     "text": [
      "executing ocn-paperfigs.ipynb\n"
     ]
    },
    {
     "data": {
      "application/vnd.jupyter.widget-view+json": {
       "model_id": "d04f9563170f462f88e7368d75ecd628",
       "version_major": 2,
       "version_minor": 0
      },
      "text/plain": [
       "Executing:   0%|          | 0/38 [00:00<?, ?cell/s]"
      ]
     },
     "metadata": {},
     "output_type": "display_data"
    }
   ],
   "source": [
    "output_dir = control['output_dir']\n",
    "\n",
    "for nb, info in control['compute_notebooks'].items():\n",
    "    \n",
    "    parameter_groups = info['parameter_groups']\n",
    "    use_cluster = info['use_cluster']\n",
    "    \n",
    "    default_params = {}\n",
    "    if 'default_params' in info:\n",
    "        default_params = info['default_params']\n",
    "\n",
    "    for key, parms in parameter_groups.items():\n",
    "\n",
    "        input_path = f'{nb}.ipynb'\n",
    "        output_path = (\n",
    "            f'{output_dir}/{nb}-{key}.ipynb'\n",
    "            if key != 'none' else f'{output_dir}/{nb}.ipynb'\n",
    "        )\n",
    "\n",
    "        # check notebook expectations\n",
    "        nb_api = pm.inspect_notebook(input_path)\n",
    "        \n",
    "        # TODO: validate paramter and API\n",
    "\n",
    "        if nb_api:\n",
    "            parms_in = dict(**default_params)\n",
    "            parms_in.update(dict(**parms))\n",
    "            parms_in['cluster_scheduler_address'] = cluster.scheduler_address\n",
    "        else:\n",
    "            parms_in = {}\n",
    "\n",
    "        print(f'executing {input_path}')\n",
    "        o = pm.execute_notebook(\n",
    "            input_path=input_path,\n",
    "            output_path=output_path,\n",
    "            kernel_name=info['kernel_name'],\n",
    "            parameters=parms_in,\n",
    "            engine_name='md_jinja',\n",
    "            jinja_data=parms,\n",
    "        )"
   ]
  },
  {
   "cell_type": "code",
   "execution_count": 7,
   "id": "fc7536f7-d86a-4f6b-996c-78a8ffb86eb9",
   "metadata": {},
   "outputs": [],
   "source": [
    "cluster.close()"
   ]
  },
  {
   "cell_type": "code",
   "execution_count": null,
   "id": "2953eb85-27e2-41d9-97ef-33af90c6a3c3",
   "metadata": {},
   "outputs": [],
   "source": []
  }
 ],
 "metadata": {
  "kernelspec": {
   "display_name": "Python [conda env:miniconda-cesm-exp]",
   "language": "python",
   "name": "conda-env-miniconda-cesm-exp-py"
  },
  "language_info": {
   "codemirror_mode": {
    "name": "ipython",
    "version": 3
   },
   "file_extension": ".py",
   "mimetype": "text/x-python",
   "name": "python",
   "nbconvert_exporter": "python",
   "pygments_lexer": "ipython3",
   "version": "3.7.12"
  }
 },
 "nbformat": 4,
 "nbformat_minor": 5
}
